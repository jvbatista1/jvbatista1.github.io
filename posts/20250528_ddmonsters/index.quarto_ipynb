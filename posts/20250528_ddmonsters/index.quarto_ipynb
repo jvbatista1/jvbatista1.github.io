{
  "cells": [
    {
      "cell_type": "markdown",
      "metadata": {},
      "source": [
        "---\n",
        "title: \"Dungeons & Dragons\"\n",
        "description: \"Quais tipos de monstro possuem as melhores habilidades?\"\n",
        "author:\n",
        "  - name: Victor Batista\n",
        "    url: https://jvbatista1.github.io/\n",
        "    langid: pt\n",
        "date: 05/28/2025\n",
        "categories: [Tidytuesday] # self-defined categories\n",
        "citation: \n",
        "  url: https://jvbatista1.github.io/posts/20250528_ddmonsters/ \n",
        "image: table.jpg\n",
        "draft: false # setting this to `true` will prevent your post from appearing on your listing page until you're ready!\n",
        "---\n",
        "\n",
        "\n",
        "No desafio do [Tidytuesday](https://github.com/rfordatascience/tidytuesday/blob/main/data/2025/2025-05-27/readme.md){target=\"_blank\"} foi apresentada uma base com os monstros de Dungeons and Dragons e seus atributos (stats). Uma das questões propostas é verificar quais tipos de monstros possuem os melhores scores.\n",
        "\n",
        "A solução que achei adequada para verificar rapidamente tanto os scores quanto o tipo de monstro foi criar um mapa de calor. Utilizando Seaborn e Matplotlib, cheguei ao resultado abaixo. O primeiro passo foi baixar a base e selecionar as variáveis de interesse:\n"
      ],
      "id": "2880a83e"
    },
    {
      "cell_type": "code",
      "metadata": {},
      "source": [
        "import pandas as pd\n",
        "import seaborn as sns\n",
        "import matplotlib.pyplot as plt\n",
        "\n",
        "monsters = pd.read_csv('https://raw.githubusercontent.com/rfordatascience/tidytuesday/main/data/2025/2025-05-27/monsters.csv')\n",
        "\n",
        "attributes = ['str', 'dex', 'con', 'int', 'wis', 'cha']\n",
        "df = monsters[['type'] + attributes]\n",
        "\n",
        "print(df.isnull().sum())\n",
        "\n",
        "# df = df.dropna(subset=['type'] + attributes)\n",
        "\n",
        "summary = df.groupby('type')[attributes].mean().reset_index()\n",
        "freq = df['type'].value_counts().sort_index()\n",
        "\n",
        "print(summary)"
      ],
      "id": "ba2b97aa",
      "execution_count": null,
      "outputs": []
    },
    {
      "cell_type": "markdown",
      "metadata": {},
      "source": [
        "Minhas escolhas de customização do gráfico (com ajuda do chat GPT, claro) foram:\n",
        "- Utilizar o `rcParams` pra configurar as fontes utilizadas\n",
        "- Dividir o gráfico em duas partes `(ax1, ax2)` para inserir um gráfico auxiliar, mostrando a frequencia dos monstros em cada tipo\n",
        "- Para um gráfico isolado, acho interessante utilizar uma outra cor de fundo que não seja branca\n"
      ],
      "id": "3a85fadc"
    },
    {
      "cell_type": "code",
      "metadata": {},
      "source": [
        "sns.set_theme(style=\"whitegrid\")\n",
        "plt.rcParams.update({'font.size': 10, 'font.family': 'sans-serif', 'font.sans-serif': 'Tahoma'})\n",
        "\n",
        "fig, (ax1, ax2) = plt.subplots(1, 2, figsize=(12, 8),\n",
        "                               gridspec_kw={'width_ratios': [4, 1]}, sharey=True)\n",
        "fig.patch.set_facecolor('#fff8dc')  \n",
        "# Heatmap\n",
        "sns.heatmap(summary.set_index('type'),\n",
        "            annot=True, fmt=\".1f\",\n",
        "            cmap='bwr',\n",
        "            cbar=False,\n",
        "            annot_kws={\"size\":8, \"color\":\"black\"},\n",
        "            ax=ax1)\n",
        "\n",
        "ax1.set_title('Average Ability Scores', fontsize=30, fontweight='bold', pad=15)\n",
        "ax1.set_ylabel('Monster Type', fontsize=12)\n",
        "ax1.set_xlabel('Ability Score', fontsize=12)\n",
        "\n",
        "# Barra de frequência\n",
        "ax2.barh(freq.index, freq.values,\n",
        "         color='#888888',\n",
        "         edgecolor='black',\n",
        "         alpha=0.8)\n",
        "\n",
        "ax2.set_title('Frequency', fontsize=16, fontweight='bold', pad=15)\n",
        "ax2.set_xlabel('Count', fontsize=12)\n",
        "\n",
        "plt.tight_layout()\n",
        "plt.show()"
      ],
      "id": "83c248f1",
      "execution_count": null,
      "outputs": []
    },
    {
      "cell_type": "markdown",
      "metadata": {},
      "source": [
        "Essa é minha primeira experiência utilizando Python para um projeto pessoal. Tive um pouco de trabalho para configurar os chunks, uma vez que estou escrevendo este blog em Quarto, mas no fim deu tudo certo. As configurações do Seaborn são muito intuitivas para customização, embora eu tenha precisado de ajuda para lembrar todas elas direitinho.\n",
        "\n",
        "Meu objetivo, no futuro, é encontrar uma identidade visual para esses projetos que realizo como exercício. Existem projetos na comunidade que acho incríveis, como o [MEDS](https://bren.ucsb.edu/masters-programs/master-environmental-data-science) (que inclusive é a grande inpiração desse blog) e [Latinometrics](https://latinometrics.com). São sites muito bonitos e agradáveis de acompanhar, tanto pelas suas escolhas estéticas quanto pela alta qualidade das análises.\n",
        "\n",
        "Se eu conseguir chegar, pelo menos, perto do que eles fazem, já ficarei muito feliz!"
      ],
      "id": "104c9bcd"
    }
  ],
  "metadata": {
    "kernelspec": {
      "name": "python3",
      "language": "python",
      "display_name": "Python 3 (ipykernel)",
      "path": "C:\\Users\\Victor\\AppData\\Roaming\\Python\\share\\jupyter\\kernels\\python3"
    }
  },
  "nbformat": 4,
  "nbformat_minor": 5
}