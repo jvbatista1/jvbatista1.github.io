{
  "cells": [
    {
      "cell_type": "markdown",
      "metadata": {},
      "source": [
        "---\n",
        "title: \"APIs Guru\"\n",
        "description: \"Uma iniciativa para construir uma Wikipedia de APIs\"\n",
        "author:\n",
        "  - name: Victor Batista\n",
        "    url: https://jvbatista1.github.io/\n",
        "    langid: pt\n",
        "date: 06/18/2025\n",
        "categories: [Tidytuesday] # self-defined categories\n",
        "citation: \n",
        "  url: https://jvbatista1.github.io/posts/20250618_apisguru/ \n",
        "image: apis_guru.svg\n",
        "draft: false # setting this to `true` will prevent your post from appearing on your listing page until you're ready!\n",
        "\n",
        "---\n",
        "\n",
        "\n",
        "No [Tidytuesday](https://github.com/rfordatascience/tidytuesday/blob/main/data/2025/2025-06-17/readme.md){target=\"_blank\"} dessa semana investigamos algumas tabelas da [APIs Guru](https://apis.guru/about/){target=\"_blank\"}, que é uma iniciativa OpenSource de criar uma Wikipedia machine-readable de API disponíveis publicamente, gratuitamente ou não. O resposável pela organização dessa semana [Jon Harmon](https://github.com/jonthegeek) tem criado um [livro](https://dslc-io.github.io/club-wapir/) sobre APIs no R e uma [série de pacotes](https://beekeeper.api2r.org) para trabalhar com essas ferramentas.\n",
        "\n",
        "Hoje farei a análise em Python.\n",
        "\n",
        "## Baixando os dados e exploração inicial\n"
      ],
      "id": "a854fa1a"
    },
    {
      "cell_type": "code",
      "metadata": {},
      "source": [
        "import pandas as pd\n",
        "import seaborn as sns\n",
        "import matplotlib.pyplot as plt\n",
        "\n",
        "api_info = pd.read_csv('https://raw.githubusercontent.com/rfordatascience/tidytuesday/main/data/2025/2025-06-17/api_info.csv')\n",
        "api_categories = pd.read_csv('https://raw.githubusercontent.com/rfordatascience/tidytuesday/main/data/2025/2025-06-17/api_categories.csv')\n",
        "api_logos = pd.read_csv('https://raw.githubusercontent.com/rfordatascience/tidytuesday/main/data/2025/2025-06-17/api_logos.csv')\n",
        "api_origins = pd.read_csv('https://raw.githubusercontent.com/rfordatascience/tidytuesday/main/data/2025/2025-06-17/api_origins.csv')\n",
        "apisguru_apis = pd.read_csv('https://raw.githubusercontent.com/rfordatascience/tidytuesday/main/data/2025/2025-06-17/apisguru_apis.csv')"
      ],
      "id": "40765e02",
      "execution_count": null,
      "outputs": []
    },
    {
      "cell_type": "markdown",
      "metadata": {},
      "source": [
        "Dando uma olhada nas tabelas disponibililzadas, quero me concentrar em especial na tabela `api_info`, pois ela tem a variável `provider_name`, o que me permite checar quais são os principais fornecedores de APIs.\n"
      ],
      "id": "aab558bb"
    },
    {
      "cell_type": "code",
      "metadata": {},
      "source": [
        "api_logos\n",
        "api_categories\n",
        "api_origins\n",
        "apisguru_apis\n",
        "api_info"
      ],
      "id": "c1f28863",
      "execution_count": null,
      "outputs": []
    },
    {
      "cell_type": "markdown",
      "metadata": {},
      "source": [
        "## Quantos APIs os provedores fornecem?"
      ],
      "id": "1b289a17"
    },
    {
      "cell_type": "code",
      "metadata": {},
      "source": [
        "api_info['provider_name'].value_counts().reset_index().head(n=50)"
      ],
      "id": "7f7f5de3",
      "execution_count": null,
      "outputs": []
    },
    {
      "cell_type": "markdown",
      "metadata": {},
      "source": [
        "Em outra oportunidade, como parte do meu interesse por OpenSource, quero verificar como o tipo de licença interagem com o perifl da API disponibilizada.\n"
      ],
      "id": "7cfe595c"
    },
    {
      "cell_type": "code",
      "metadata": {},
      "source": [
        "contagem = api_info[['provider_name', 'license_name']].value_counts().reset_index()\n",
        "\n",
        "contagem"
      ],
      "id": "bf7d2f52",
      "execution_count": null,
      "outputs": []
    },
    {
      "cell_type": "markdown",
      "metadata": {},
      "source": [
        "E aqui termino com uma visualização simples dos 10 principais provedores de API\n"
      ],
      "id": "f6e1cb91"
    },
    {
      "cell_type": "code",
      "metadata": {},
      "source": [
        "top_providers = api_info['provider_name'].value_counts().head(10)\n",
        "\n",
        "plt.figure(figsize=(12, 6)).patch.set_facecolor('#fff8dc')\n",
        "ax = sns.barplot(x=top_providers.index, y=top_providers.values, palette='viridis')\n",
        "plt.title('Top 10 Provedores - Número de Observações', fontsize=16, fontweight='bold')\n",
        "plt.xlabel('Provedor', fontsize=12)\n",
        "plt.ylabel('Número de Observações', fontsize=12)\n",
        "plt.xticks(rotation=45, ha='right')\n",
        "plt.tight_layout()\n",
        "\n",
        "# Adiciona os valores no topo das barras\n",
        "for i, bar in enumerate(ax.patches):\n",
        "    plt.text(bar.get_x() + bar.get_width()/2, bar.get_height() + 0.5, \n",
        "             str(top_providers.values[i]), ha='center', va='bottom')\n",
        "\n",
        "# Adiciona grade para facilitar a leitura\n",
        "plt.grid(axis='y', alpha=0.3)"
      ],
      "id": "5f4f0dd7",
      "execution_count": null,
      "outputs": []
    },
    {
      "cell_type": "markdown",
      "metadata": {},
      "source": [
        "Trabalhar com Python tem sido interessante como alguém que saiu da vida acadêmica e por isso está bastante acostumado com R. Hoje eu perdi um bom tempo em reaprender como fazer contagens por categoria (usando tanto `value_counts()` como `group_by()`). Isso não por falta de conhecimento dessas funções, mas por confusão com as funções do R que fazem a mesma coisa mais com configurações diferentes.\n",
        "\n",
        "De toda forma, essa é mais um resulado bem legal que gostaria de compartilhar."
      ],
      "id": "f08ff174"
    }
  ],
  "metadata": {
    "kernelspec": {
      "name": "python3",
      "language": "python",
      "display_name": "Python 3 (ipykernel)",
      "path": "C:\\Users\\Victor\\AppData\\Roaming\\Python\\share\\jupyter\\kernels\\python3"
    }
  },
  "nbformat": 4,
  "nbformat_minor": 5
}